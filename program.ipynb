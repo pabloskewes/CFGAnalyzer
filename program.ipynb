{
 "cells": [
  {
   "cell_type": "code",
   "execution_count": 3,
   "metadata": {},
   "outputs": [
    {
     "data": {
      "text/plain": [
       "True"
      ]
     },
     "execution_count": 3,
     "metadata": {},
     "output_type": "execute_result"
    }
   ],
   "source": [
    "from pathlib import Path\n",
    "\n",
    "from src.graph.graph_generator1 import generate_graph\n",
    "from src.graph.graph_analizer1 import analize_graph\n",
    "from src.graph.analizador import analizador, generate_graph\n",
    "\n",
    "EXAMPLES_DIR = Path('code_examples').resolve()\n",
    "EXAMPLES_DIR\n",
    "\n",
    "example_path = EXAMPLES_DIR / 'code_example8.txt'\n",
    "example_path.exists()"
   ]
  },
  {
   "cell_type": "code",
   "execution_count": 4,
   "metadata": {},
   "outputs": [
    {
     "name": "stdout",
     "output_type": "stream",
     "text": [
      "CFG\n",
      "Nodos: 7\n",
      "Arcos: 8\n",
      "Componentes conexos: 1\n",
      "\n",
      "Variables indefinidas\n",
      "Variable: e\n",
      "Camino: x = 0, while x < 10:, fin, \n",
      "Variable: m\n",
      "Camino: x = 0, while x < 10:, fin, \n",
      "Variable: n\n",
      "Camino: x = 0, while x < 10:, fin, \n",
      "Variable: o\n",
      "Camino: x = 0, while x < 10:, fin, \n",
      "Variable: q\n",
      "Camino: x = 0, while x < 10:, fin, \n",
      "Variable: r\n",
      "Camino: x = 0, while x < 10:, fin, \n",
      "Variable: s\n",
      "Camino: x = 0, while x < 10:, fin, \n",
      "Variable: u\n",
      "Camino: x = 0, while x < 10:, fin, \n",
      "\n",
      "Complejidad ciclomática\n",
      "3\n"
     ]
    }
   ],
   "source": [
    "analizador(example_path)"
   ]
  },
  {
   "cell_type": "code",
   "execution_count": null,
   "metadata": {},
   "outputs": [],
   "source": []
  }
 ],
 "metadata": {
  "kernelspec": {
   "display_name": "venv",
   "language": "python",
   "name": "python3"
  },
  "language_info": {
   "codemirror_mode": {
    "name": "ipython",
    "version": 3
   },
   "file_extension": ".py",
   "mimetype": "text/x-python",
   "name": "python",
   "nbconvert_exporter": "python",
   "pygments_lexer": "ipython3",
   "version": "3.8.8"
  },
  "orig_nbformat": 4
 },
 "nbformat": 4,
 "nbformat_minor": 2
}
