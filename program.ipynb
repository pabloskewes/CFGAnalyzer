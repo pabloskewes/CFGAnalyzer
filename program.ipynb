{
 "cells": [
  {
   "cell_type": "code",
   "execution_count": 1,
   "metadata": {},
   "outputs": [],
   "source": [
    "from pathlib import Path\n",
    "\n",
    "from src.graph.graph_generator1 import generate_graph\n",
    "from src.graph.graph_analizer1 import analize_graph"
   ]
  },
  {
   "cell_type": "code",
   "execution_count": 2,
   "metadata": {},
   "outputs": [
    {
     "data": {
      "text/plain": [
       "WindowsPath('C:/Users/Martín/Documents/GitHub/CFGAnalyzer/code_examples')"
      ]
     },
     "execution_count": 2,
     "metadata": {},
     "output_type": "execute_result"
    }
   ],
   "source": [
    "EXAMPLES_DIR = Path('code_examples').resolve()\n",
    "EXAMPLES_DIR"
   ]
  },
  {
   "cell_type": "code",
   "execution_count": 3,
   "metadata": {},
   "outputs": [
    {
     "data": {
      "text/plain": [
       "True"
      ]
     },
     "execution_count": 3,
     "metadata": {},
     "output_type": "execute_result"
    }
   ],
   "source": [
    "example_path = EXAMPLES_DIR / 'code_example8.txt'\n",
    "example_path.exists()"
   ]
  },
  {
   "cell_type": "code",
   "execution_count": 4,
   "metadata": {},
   "outputs": [],
   "source": [
    "graph = generate_graph(example_path)"
   ]
  },
  {
   "cell_type": "code",
   "execution_count": 5,
   "metadata": {},
   "outputs": [
    {
     "data": {
      "text/plain": [
       "['fin',\n",
       " 'x = 0\\nif es_especial(x)\\n',\n",
       " '    x = 0\\n',\n",
       " '    y = 5\\n',\n",
       " 'print(x + y)']"
      ]
     },
     "execution_count": 5,
     "metadata": {},
     "output_type": "execute_result"
    }
   ],
   "source": [
    "graph.nodes"
   ]
  },
  {
   "cell_type": "code",
   "execution_count": 10,
   "metadata": {},
   "outputs": [
    {
     "data": {
      "text/plain": [
       "{'fin': [],\n",
       " 'x = 0\\nif es_especial(x)\\n': ['    x = 0\\n', '    y = 5\\n'],\n",
       " '    x = 0\\n': ['print(x + y)'],\n",
       " '    y = 5\\n': ['print(x + y)'],\n",
       " 'print(x + y)': ['fin']}"
      ]
     },
     "execution_count": 10,
     "metadata": {},
     "output_type": "execute_result"
    }
   ],
   "source": [
    "graph.adjacency_list"
   ]
  },
  {
   "cell_type": "code",
   "execution_count": 7,
   "metadata": {},
   "outputs": [
    {
     "data": {
      "image/png": "[encoded data removed]",
      "text/plain": [
       "<Figure size 640x480 with 1 Axes>"
      ]
     },
     "metadata": {},
     "output_type": "display_data"
    }
   ],
   "source": [
    "graph.plot()"
   ]
  },
  {
   "cell_type": "code",
   "execution_count": 8,
   "metadata": {},
   "outputs": [
    {
     "data": {
      "text/plain": [
       "[['fin'], ['fin']]"
      ]
     },
     "execution_count": 8,
     "metadata": {},
     "output_type": "execute_result"
    }
   ],
   "source": [
    "analize_graph(graph)"
   ]
  },
  {
   "cell_type": "code",
   "execution_count": 11,
   "metadata": {},
   "outputs": [
    {
     "data": {
      "text/plain": [
       "'x '"
      ]
     },
     "execution_count": 11,
     "metadata": {},
     "output_type": "execute_result"
    }
   ],
   "source": [
    "s='x =x+1\\n y=1'\n",
    "s[:s.find(\"=\")]"
   ]
  },
  {
   "cell_type": "code",
   "execution_count": 18,
   "metadata": {},
   "outputs": [],
   "source": [
    "from src.parser.program_parser import parse_lines"
   ]
  },
  {
   "cell_type": "code",
   "execution_count": 6,
   "metadata": {},
   "outputs": [],
   "source": [
    "lines = parse_lines(example_path)"
   ]
  },
  {
   "cell_type": "code",
   "execution_count": 7,
   "metadata": {},
   "outputs": [
    {
     "data": {
      "text/plain": [
       "[Line(self.content='x = 0', self.tabs=0, self.type=LineType.ASSIGN),\n",
       " Line(self.content='while x < 10:', self.tabs=0, self.type=LineType.WHILE),\n",
       " Line(self.content='if x > 5:', self.tabs=1, self.type=LineType.IF),\n",
       " Line(self.content='print(x)', self.tabs=2, self.type=LineType.FUNCTION),\n",
       " Line(self.content='else :', self.tabs=1, self.type=LineType.ELSE),\n",
       " Line(self.content=\"print( 'x es menor que 6')\", self.tabs=2, self.type=LineType.FUNCTION),\n",
       " Line(self.content='x = x + 1', self.tabs=1, self.type=LineType.ASSIGN)]"
      ]
     },
     "execution_count": 7,
     "metadata": {},
     "output_type": "execute_result"
    }
   ],
   "source": [
    "lines"
   ]
  },
  {
   "cell_type": "code",
   "execution_count": 8,
   "metadata": {},
   "outputs": [
    {
     "data": {
      "text/plain": [
       "Line(self.content='if x > 5:', self.tabs=1, self.type=LineType.IF)"
      ]
     },
     "execution_count": 8,
     "metadata": {},
     "output_type": "execute_result"
    }
   ],
   "source": [
    "line = lines[2]\n",
    "line"
   ]
  },
  {
   "cell_type": "code",
   "execution_count": 11,
   "metadata": {},
   "outputs": [
    {
     "name": "stdout",
     "output_type": "stream",
     "text": [
      "if x > 5:\n",
      "1\n",
      "LineType.IF\n",
      "2\n"
     ]
    }
   ],
   "source": [
    "print(line.content)\n",
    "print(line.tabs)\n",
    "print(line.type)\n",
    "print(line.line_number)"
   ]
  },
  {
   "cell_type": "code",
   "execution_count": null,
   "metadata": {},
   "outputs": [],
   "source": []
  },
  {
   "cell_type": "code",
   "execution_count": 8,
   "metadata": {},
   "outputs": [],
   "source": [
    "from importlib import reload\n",
    "import src\n",
    "reload(src.graph.graph_generator2)\n",
    "from src.graph.graph_generator2 import ControlFlowGraph"
   ]
  },
  {
   "cell_type": "code",
   "execution_count": 9,
   "metadata": {},
   "outputs": [
    {
     "name": "stdout",
     "output_type": "stream",
     "text": [
      "We are in block 0\n"
     ]
    },
    {
     "ename": "GraphError",
     "evalue": "Node 2 does not exist in the graph.",
     "output_type": "error",
     "traceback": [
      "\u001b[0;31m---------------------------------------------------------------------------\u001b[0m",
      "\u001b[0;31mGraphError\u001b[0m                                Traceback (most recent call last)",
      "Cell \u001b[0;32mIn[9], line 1\u001b[0m\n\u001b[0;32m----> 1\u001b[0m cfg \u001b[39m=\u001b[39m ControlFlowGraph(example_path)\n",
      "File \u001b[0;32m~/Desktop/FCFM/Matemáticas Discretas para la Computación/Tarea3/CFGAnalyzer/src/graph/graph_generator2.py:53\u001b[0m, in \u001b[0;36mControlFlowGraph.__init__\u001b[0;34m(self, path)\u001b[0m\n\u001b[1;32m     50\u001b[0m \u001b[39mself\u001b[39m\u001b[39m.\u001b[39mgraph \u001b[39m=\u001b[39m Graph()\n\u001b[1;32m     51\u001b[0m \u001b[39mself\u001b[39m\u001b[39m.\u001b[39mnode_content \u001b[39m=\u001b[39m {}\n\u001b[0;32m---> 53\u001b[0m \u001b[39mself\u001b[39;49m\u001b[39m.\u001b[39;49mpopulate_graph(Block(\u001b[39mself\u001b[39;49m\u001b[39m.\u001b[39;49mlines))\n",
      "File \u001b[0;32m~/Desktop/FCFM/Matemáticas Discretas para la Computación/Tarea3/CFGAnalyzer/src/graph/graph_generator2.py:84\u001b[0m, in \u001b[0;36mControlFlowGraph.populate_graph\u001b[0;34m(self, block)\u001b[0m\n\u001b[1;32m     81\u001b[0m \u001b[39mself\u001b[39m\u001b[39m.\u001b[39mnode_content[body\u001b[39m.\u001b[39mid] \u001b[39m=\u001b[39m body\n\u001b[1;32m     82\u001b[0m \u001b[39mself\u001b[39m\u001b[39m.\u001b[39mnode_content[outside_while\u001b[39m.\u001b[39mid] \u001b[39m=\u001b[39m outside_while\n\u001b[0;32m---> 84\u001b[0m \u001b[39mself\u001b[39;49m\u001b[39m.\u001b[39;49mgraph\u001b[39m.\u001b[39;49madd_edge(header\u001b[39m.\u001b[39;49mid, body\u001b[39m.\u001b[39;49mid)\n\u001b[1;32m     85\u001b[0m \u001b[39mself\u001b[39m\u001b[39m.\u001b[39mgraph\u001b[39m.\u001b[39madd_edge(body\u001b[39m.\u001b[39mid, header\u001b[39m.\u001b[39mid)\n\u001b[1;32m     86\u001b[0m \u001b[39mself\u001b[39m\u001b[39m.\u001b[39mgraph\u001b[39m.\u001b[39madd_edge(header\u001b[39m.\u001b[39mid, outside_while\u001b[39m.\u001b[39mid)\n",
      "File \u001b[0;32m~/Desktop/FCFM/Matemáticas Discretas para la Computación/Tarea3/CFGAnalyzer/src/graph/graph.py:33\u001b[0m, in \u001b[0;36mGraph.add_edge\u001b[0;34m(self, source, target)\u001b[0m\n\u001b[1;32m     31\u001b[0m     \u001b[39mraise\u001b[39;00m GraphError(\u001b[39mf\u001b[39m\u001b[39m\"\u001b[39m\u001b[39mNode \u001b[39m\u001b[39m{\u001b[39;00msource\u001b[39m}\u001b[39;00m\u001b[39m does not exist in the graph.\u001b[39m\u001b[39m\"\u001b[39m)\n\u001b[1;32m     32\u001b[0m \u001b[39mif\u001b[39;00m target \u001b[39mnot\u001b[39;00m \u001b[39min\u001b[39;00m \u001b[39mself\u001b[39m\u001b[39m.\u001b[39mnodes:\n\u001b[0;32m---> 33\u001b[0m     \u001b[39mraise\u001b[39;00m GraphError(\u001b[39mf\u001b[39m\u001b[39m\"\u001b[39m\u001b[39mNode \u001b[39m\u001b[39m{\u001b[39;00mtarget\u001b[39m}\u001b[39;00m\u001b[39m does not exist in the graph.\u001b[39m\u001b[39m\"\u001b[39m)\n\u001b[1;32m     34\u001b[0m \u001b[39mself\u001b[39m\u001b[39m.\u001b[39medges\u001b[39m.\u001b[39mappend((source, target))\n",
      "\u001b[0;31mGraphError\u001b[0m: Node 2 does not exist in the graph."
     ]
    }
   ],
   "source": [
    "cfg = ControlFlowGraph(example_path)"
   ]
  },
  {
   "cell_type": "code",
   "execution_count": null,
   "metadata": {},
   "outputs": [],
   "source": []
  }
 ],
 "metadata": {
  "kernelspec": {
   "display_name": "venv",
   "language": "python",
   "name": "python3"
  },
  "language_info": {
   "codemirror_mode": {
    "name": "ipython",
    "version": 3
   },
   "file_extension": ".py",
   "mimetype": "text/x-python",
   "name": "python",
   "nbconvert_exporter": "python",
   "pygments_lexer": "ipython3",
   "version": "3.8.8"
  },
  "orig_nbformat": 4
 },
 "nbformat": 4,
 "nbformat_minor": 2
}
